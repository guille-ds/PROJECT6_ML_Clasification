{
 "cells": [
  {
   "cell_type": "code",
   "execution_count": 1,
   "metadata": {},
   "outputs": [],
   "source": [
    "import pandas as pd\n",
    "import numpy as np\n",
    "from sklearn.ensemble import RandomForestRegressor\n",
    "from sklearn.feature_selection import RFECV\n",
    "from sklearn.metrics import *\n",
    "from sklearn.model_selection import train_test_split\n",
    "import matplotlib.pyplot as plt"
   ]
  },
  {
   "cell_type": "code",
   "execution_count": 10,
   "metadata": {},
   "outputs": [],
   "source": [
    "raw = pd.read_csv('csvs/training_dataset.csv')\n",
    "test = pd.read_csv('csvs/test_dataset.csv')"
   ]
  },
  {
   "cell_type": "code",
   "execution_count": 38,
   "metadata": {},
   "outputs": [],
   "source": [
    "authors = raw.author.unique()\n",
    "diccio = {}\n",
    "for i, a in enumerate(authors):\n",
    "    diccio[a]=(i+1)\n",
    "raw.author=raw.author.map(diccio)"
   ]
  },
  {
   "cell_type": "code",
   "execution_count": 34,
   "metadata": {},
   "outputs": [],
   "source": [
    "raw.to_csv('csvs/dataClean.csv')"
   ]
  },
  {
   "cell_type": "code",
   "execution_count": 36,
   "metadata": {},
   "outputs": [
    {
     "data": {
      "text/html": [
       "<div>\n",
       "<style scoped>\n",
       "    .dataframe tbody tr th:only-of-type {\n",
       "        vertical-align: middle;\n",
       "    }\n",
       "\n",
       "    .dataframe tbody tr th {\n",
       "        vertical-align: top;\n",
       "    }\n",
       "\n",
       "    .dataframe thead th {\n",
       "        text-align: right;\n",
       "    }\n",
       "</style>\n",
       "<table border=\"1\" class=\"dataframe\">\n",
       "  <thead>\n",
       "    <tr style=\"text-align: right;\">\n",
       "      <th></th>\n",
       "      <th>Unnamed: 0</th>\n",
       "      <th>id</th>\n",
       "      <th>0</th>\n",
       "      <th>1</th>\n",
       "      <th>2</th>\n",
       "      <th>3</th>\n",
       "      <th>4</th>\n",
       "      <th>5</th>\n",
       "      <th>6</th>\n",
       "      <th>7</th>\n",
       "      <th>8</th>\n",
       "      <th>9</th>\n",
       "      <th>author</th>\n",
       "    </tr>\n",
       "  </thead>\n",
       "  <tbody>\n",
       "    <tr>\n",
       "      <th>0</th>\n",
       "      <td>0</td>\n",
       "      <td>0</td>\n",
       "      <td>0.142636</td>\n",
       "      <td>0.431070</td>\n",
       "      <td>0.032912</td>\n",
       "      <td>-0.486796</td>\n",
       "      <td>0.261718</td>\n",
       "      <td>-1.013906</td>\n",
       "      <td>-0.081827</td>\n",
       "      <td>0.330352</td>\n",
       "      <td>0.438262</td>\n",
       "      <td>-0.761088</td>\n",
       "      <td>1</td>\n",
       "    </tr>\n",
       "    <tr>\n",
       "      <th>1</th>\n",
       "      <td>1</td>\n",
       "      <td>1</td>\n",
       "      <td>0.019197</td>\n",
       "      <td>0.525284</td>\n",
       "      <td>0.068476</td>\n",
       "      <td>0.166658</td>\n",
       "      <td>0.261718</td>\n",
       "      <td>0.231839</td>\n",
       "      <td>0.635431</td>\n",
       "      <td>0.133209</td>\n",
       "      <td>0.313536</td>\n",
       "      <td>-0.002374</td>\n",
       "      <td>2</td>\n",
       "    </tr>\n",
       "    <tr>\n",
       "      <th>2</th>\n",
       "      <td>2</td>\n",
       "      <td>2</td>\n",
       "      <td>0.093260</td>\n",
       "      <td>-0.087108</td>\n",
       "      <td>-2.268081</td>\n",
       "      <td>-0.164963</td>\n",
       "      <td>0.261718</td>\n",
       "      <td>1.477585</td>\n",
       "      <td>0.635431</td>\n",
       "      <td>-0.370641</td>\n",
       "      <td>0.126447</td>\n",
       "      <td>1.078357</td>\n",
       "      <td>3</td>\n",
       "    </tr>\n",
       "    <tr>\n",
       "      <th>3</th>\n",
       "      <td>3</td>\n",
       "      <td>3</td>\n",
       "      <td>-0.017834</td>\n",
       "      <td>-0.228430</td>\n",
       "      <td>0.370770</td>\n",
       "      <td>1.293671</td>\n",
       "      <td>0.172340</td>\n",
       "      <td>-0.058835</td>\n",
       "      <td>0.446679</td>\n",
       "      <td>1.609556</td>\n",
       "      <td>2.277968</td>\n",
       "      <td>-0.172339</td>\n",
       "      <td>4</td>\n",
       "    </tr>\n",
       "    <tr>\n",
       "      <th>4</th>\n",
       "      <td>4</td>\n",
       "      <td>4</td>\n",
       "      <td>0.080916</td>\n",
       "      <td>-0.142067</td>\n",
       "      <td>0.171611</td>\n",
       "      <td>-0.470713</td>\n",
       "      <td>0.261718</td>\n",
       "      <td>-0.141884</td>\n",
       "      <td>-0.044076</td>\n",
       "      <td>0.375551</td>\n",
       "      <td>0.032902</td>\n",
       "      <td>0.009898</td>\n",
       "      <td>2</td>\n",
       "    </tr>\n",
       "  </tbody>\n",
       "</table>\n",
       "</div>"
      ],
      "text/plain": [
       "   Unnamed: 0  id         0         1         2         3         4         5  \\\n",
       "0           0   0  0.142636  0.431070  0.032912 -0.486796  0.261718 -1.013906   \n",
       "1           1   1  0.019197  0.525284  0.068476  0.166658  0.261718  0.231839   \n",
       "2           2   2  0.093260 -0.087108 -2.268081 -0.164963  0.261718  1.477585   \n",
       "3           3   3 -0.017834 -0.228430  0.370770  1.293671  0.172340 -0.058835   \n",
       "4           4   4  0.080916 -0.142067  0.171611 -0.470713  0.261718 -0.141884   \n",
       "\n",
       "          6         7         8         9  author  \n",
       "0 -0.081827  0.330352  0.438262 -0.761088       1  \n",
       "1  0.635431  0.133209  0.313536 -0.002374       2  \n",
       "2  0.635431 -0.370641  0.126447  1.078357       3  \n",
       "3  0.446679  1.609556  2.277968 -0.172339       4  \n",
       "4 -0.044076  0.375551  0.032902  0.009898       2  "
      ]
     },
     "execution_count": 36,
     "metadata": {},
     "output_type": "execute_result"
    }
   ],
   "source": [
    "d = pd.read_csv('csvs/dataClean.csv')\n",
    "d.head()"
   ]
  },
  {
   "cell_type": "code",
   "execution_count": null,
   "metadata": {},
   "outputs": [],
   "source": []
  },
  {
   "cell_type": "code",
   "execution_count": null,
   "metadata": {},
   "outputs": [],
   "source": []
  }
 ],
 "metadata": {
  "kernelspec": {
   "display_name": "Python 3",
   "language": "python",
   "name": "python3"
  },
  "language_info": {
   "codemirror_mode": {
    "name": "ipython",
    "version": 3
   },
   "file_extension": ".py",
   "mimetype": "text/x-python",
   "name": "python",
   "nbconvert_exporter": "python",
   "pygments_lexer": "ipython3",
   "version": "3.7.6"
  }
 },
 "nbformat": 4,
 "nbformat_minor": 4
}
