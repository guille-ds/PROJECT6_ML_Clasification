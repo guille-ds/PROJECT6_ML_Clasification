{
 "cells": [
  {
   "cell_type": "code",
   "execution_count": 1,
   "metadata": {},
   "outputs": [],
   "source": [
    "import pandas as pd\n",
    "import numpy as np\n",
    "\n",
    "from sklearn.feature_selection import RFECV\n",
    "from sklearn.metrics import *\n",
    "from sklearn.model_selection import train_test_split\n",
    "import matplotlib.pyplot as plt\n",
    "\n",
    "from sklearn.ensemble import RandomForestClassifier\n",
    "from sklearn.datasets import make_classification\n",
    "from sklearn.metrics import accuracy_score"
   ]
  },
  {
   "cell_type": "code",
   "execution_count": 129,
   "metadata": {},
   "outputs": [],
   "source": [
    "raw = pd.read_csv('csvs/training_dataset.csv')\n",
    "test = pd.read_csv('csvs/test_dataset.csv')"
   ]
  },
  {
   "cell_type": "code",
   "execution_count": 130,
   "metadata": {},
   "outputs": [
    {
     "data": {
      "text/plain": [
       "'\\nauthors = raw.author.unique()\\ndiccio = {}\\nfor i, a in enumerate(authors):\\n    diccio[a]=(i+1)\\nraw.author=raw.author.map(diccio)\\n'"
      ]
     },
     "execution_count": 130,
     "metadata": {},
     "output_type": "execute_result"
    }
   ],
   "source": [
    "'''\n",
    "authors = raw.author.unique()\n",
    "diccio = {}\n",
    "for i, a in enumerate(authors):\n",
    "    diccio[a]=(i+1)\n",
    "raw.author=raw.author.map(diccio)\n",
    "'''"
   ]
  },
  {
   "cell_type": "code",
   "execution_count": 131,
   "metadata": {},
   "outputs": [],
   "source": [
    "raw.to_csv('csvs/dataClean.csv', index=False)"
   ]
  },
  {
   "cell_type": "code",
   "execution_count": 132,
   "metadata": {},
   "outputs": [
    {
     "data": {
      "text/html": [
       "<div>\n",
       "<style scoped>\n",
       "    .dataframe tbody tr th:only-of-type {\n",
       "        vertical-align: middle;\n",
       "    }\n",
       "\n",
       "    .dataframe tbody tr th {\n",
       "        vertical-align: top;\n",
       "    }\n",
       "\n",
       "    .dataframe thead th {\n",
       "        text-align: right;\n",
       "    }\n",
       "</style>\n",
       "<table border=\"1\" class=\"dataframe\">\n",
       "  <thead>\n",
       "    <tr style=\"text-align: right;\">\n",
       "      <th></th>\n",
       "      <th>id</th>\n",
       "      <th>0</th>\n",
       "      <th>1</th>\n",
       "      <th>2</th>\n",
       "      <th>3</th>\n",
       "      <th>4</th>\n",
       "      <th>5</th>\n",
       "      <th>6</th>\n",
       "      <th>7</th>\n",
       "      <th>8</th>\n",
       "      <th>9</th>\n",
       "      <th>author</th>\n",
       "    </tr>\n",
       "  </thead>\n",
       "  <tbody>\n",
       "    <tr>\n",
       "      <th>0</th>\n",
       "      <td>0</td>\n",
       "      <td>0.142636</td>\n",
       "      <td>0.431070</td>\n",
       "      <td>0.032912</td>\n",
       "      <td>-0.486796</td>\n",
       "      <td>0.261718</td>\n",
       "      <td>-1.013906</td>\n",
       "      <td>-0.081827</td>\n",
       "      <td>0.330352</td>\n",
       "      <td>0.438262</td>\n",
       "      <td>-0.761088</td>\n",
       "      <td>Ubuntius</td>\n",
       "    </tr>\n",
       "    <tr>\n",
       "      <th>1</th>\n",
       "      <td>1</td>\n",
       "      <td>0.019197</td>\n",
       "      <td>0.525284</td>\n",
       "      <td>0.068476</td>\n",
       "      <td>0.166658</td>\n",
       "      <td>0.261718</td>\n",
       "      <td>0.231839</td>\n",
       "      <td>0.635431</td>\n",
       "      <td>0.133209</td>\n",
       "      <td>0.313536</td>\n",
       "      <td>-0.002374</td>\n",
       "      <td>Philippus</td>\n",
       "    </tr>\n",
       "    <tr>\n",
       "      <th>2</th>\n",
       "      <td>2</td>\n",
       "      <td>0.093260</td>\n",
       "      <td>-0.087108</td>\n",
       "      <td>-2.268081</td>\n",
       "      <td>-0.164963</td>\n",
       "      <td>0.261718</td>\n",
       "      <td>1.477585</td>\n",
       "      <td>0.635431</td>\n",
       "      <td>-0.370641</td>\n",
       "      <td>0.126447</td>\n",
       "      <td>1.078357</td>\n",
       "      <td>Marcus</td>\n",
       "    </tr>\n",
       "    <tr>\n",
       "      <th>3</th>\n",
       "      <td>3</td>\n",
       "      <td>-0.017834</td>\n",
       "      <td>-0.228430</td>\n",
       "      <td>0.370770</td>\n",
       "      <td>1.293671</td>\n",
       "      <td>0.172340</td>\n",
       "      <td>-0.058835</td>\n",
       "      <td>0.446679</td>\n",
       "      <td>1.609556</td>\n",
       "      <td>2.277968</td>\n",
       "      <td>-0.172339</td>\n",
       "      <td>Clarius</td>\n",
       "    </tr>\n",
       "    <tr>\n",
       "      <th>4</th>\n",
       "      <td>4</td>\n",
       "      <td>0.080916</td>\n",
       "      <td>-0.142067</td>\n",
       "      <td>0.171611</td>\n",
       "      <td>-0.470713</td>\n",
       "      <td>0.261718</td>\n",
       "      <td>-0.141884</td>\n",
       "      <td>-0.044076</td>\n",
       "      <td>0.375551</td>\n",
       "      <td>0.032902</td>\n",
       "      <td>0.009898</td>\n",
       "      <td>Philippus</td>\n",
       "    </tr>\n",
       "  </tbody>\n",
       "</table>\n",
       "</div>"
      ],
      "text/plain": [
       "   id         0         1         2         3         4         5         6  \\\n",
       "0   0  0.142636  0.431070  0.032912 -0.486796  0.261718 -1.013906 -0.081827   \n",
       "1   1  0.019197  0.525284  0.068476  0.166658  0.261718  0.231839  0.635431   \n",
       "2   2  0.093260 -0.087108 -2.268081 -0.164963  0.261718  1.477585  0.635431   \n",
       "3   3 -0.017834 -0.228430  0.370770  1.293671  0.172340 -0.058835  0.446679   \n",
       "4   4  0.080916 -0.142067  0.171611 -0.470713  0.261718 -0.141884 -0.044076   \n",
       "\n",
       "          7         8         9     author  \n",
       "0  0.330352  0.438262 -0.761088   Ubuntius  \n",
       "1  0.133209  0.313536 -0.002374  Philippus  \n",
       "2 -0.370641  0.126447  1.078357     Marcus  \n",
       "3  1.609556  2.277968 -0.172339    Clarius  \n",
       "4  0.375551  0.032902  0.009898  Philippus  "
      ]
     },
     "execution_count": 132,
     "metadata": {},
     "output_type": "execute_result"
    }
   ],
   "source": [
    "d = pd.read_csv('csvs/dataClean.csv')\n",
    "d.head()"
   ]
  },
  {
   "cell_type": "code",
   "execution_count": 133,
   "metadata": {},
   "outputs": [
    {
     "data": {
      "text/plain": [
       "['0', '1', '2', '3', '4', '5', '6', '7', '8', '9']"
      ]
     },
     "execution_count": 133,
     "metadata": {},
     "output_type": "execute_result"
    }
   ],
   "source": [
    "cols = list(d.columns[1:-1])\n",
    "cols"
   ]
  },
  {
   "cell_type": "code",
   "execution_count": 134,
   "metadata": {},
   "outputs": [],
   "source": [
    "# Preparo los dato con los que entrenar\n",
    "X = d[cols]\n",
    "y = d['author']\n",
    "X_train, X_test, y_train, y_test = train_test_split(X, y, test_size=0.11, random_state=17)"
   ]
  },
  {
   "cell_type": "code",
   "execution_count": 143,
   "metadata": {},
   "outputs": [
    {
     "name": "stdout",
     "output_type": "stream",
     "text": [
      "Processed 1 / 5\n",
      "Processed 2 / 5\n",
      "Processed 3 / 5\n",
      "Processed 4 / 5\n",
      "Processed 5 / 5\n"
     ]
    }
   ],
   "source": [
    "# Entreno el modelo\n",
    "diccio={}\n",
    "lista = range(10,60,10)\n",
    "for i, e in enumerate(lista):\n",
    "    # Random Forest Classifier:\n",
    "    clf = RandomForestClassifier(n_estimators=199)\n",
    "    X_train, X_test, y_train, y_test = train_test_split(X, y, test_size=0.2, random_state=e)\n",
    "    \n",
    "    # Entreno el modelo:\n",
    "    model = clf.fit(X_train, y_train)\n",
    "    \n",
    "    # Resultados del dataset TRAIN:\n",
    "    y_test_pred = clf.predict(X_test)\n",
    "    accu = accuracy_score(y_test, y_test_pred)\n",
    "    \n",
    "    diccio[f'{e} estimators']={'accu':accu}\n",
    "    print (f'Processed {i+1} / {len(lista)}')"
   ]
  },
  {
   "cell_type": "code",
   "execution_count": 137,
   "metadata": {},
   "outputs": [
    {
     "name": "stdout",
     "output_type": "stream",
     "text": [
      "{'196 estimators': {'accu': 0.9901664145234493}, '197 estimators': {'accu': 0.989409984871407}, '198 estimators': {'accu': 0.989409984871407}, '199 estimators': {'accu': 0.989409984871407}, '200 estimators': {'accu': 0.9901664145234493}, '201 estimators': {'accu': 0.9848714069591528}}\n",
      "                    accu\n",
      "196 estimators  0.990166\n",
      "200 estimators  0.990166\n"
     ]
    },
    {
     "data": {
      "image/png": "[encoded data removed]",
      "text/plain": [
       "<Figure size 1800x360 with 1 Axes>"
      ]
     },
     "metadata": {
      "needs_background": "light"
     },
     "output_type": "display_data"
    }
   ],
   "source": [
    "# La predicción de X_train:\n",
    "print(diccio)\n",
    "\n",
    "# Elijo el que tenga el accuracy mayor:\n",
    "tabla = pd.DataFrame(diccio)\n",
    "tab = tabla.T\n",
    "print(tab[tab.accu==max(tab.accu)])\n",
    "\n",
    "# Reviso la gráfica por si hubiese algún rango mínimo:\n",
    "tab.accu.plot(figsize=(25,5));"
   ]
  },
  {
   "cell_type": "markdown",
   "metadata": {},
   "source": [
    "### Me quedo con el mejor modelo (mayor accuracy)"
   ]
  },
  {
   "cell_type": "code",
   "execution_count": 138,
   "metadata": {},
   "outputs": [],
   "source": [
    "# Random Forest Classifier:\n",
    "clf = RandomForestClassifier(n_estimators=199)\n",
    "\n",
    "# Entreno el modelo con el 100% del dataset Train:\n",
    "model = clf.fit(X, y)"
   ]
  },
  {
   "cell_type": "markdown",
   "metadata": {},
   "source": [
    "### Predict de data_test"
   ]
  },
  {
   "cell_type": "code",
   "execution_count": 139,
   "metadata": {},
   "outputs": [
    {
     "data": {
      "text/html": [
       "<div>\n",
       "<style scoped>\n",
       "    .dataframe tbody tr th:only-of-type {\n",
       "        vertical-align: middle;\n",
       "    }\n",
       "\n",
       "    .dataframe tbody tr th {\n",
       "        vertical-align: top;\n",
       "    }\n",
       "\n",
       "    .dataframe thead th {\n",
       "        text-align: right;\n",
       "    }\n",
       "</style>\n",
       "<table border=\"1\" class=\"dataframe\">\n",
       "  <thead>\n",
       "    <tr style=\"text-align: right;\">\n",
       "      <th></th>\n",
       "      <th>id</th>\n",
       "      <th>0</th>\n",
       "      <th>1</th>\n",
       "      <th>2</th>\n",
       "      <th>3</th>\n",
       "      <th>4</th>\n",
       "      <th>5</th>\n",
       "      <th>6</th>\n",
       "      <th>7</th>\n",
       "      <th>8</th>\n",
       "      <th>9</th>\n",
       "    </tr>\n",
       "  </thead>\n",
       "  <tbody>\n",
       "    <tr>\n",
       "      <th>0</th>\n",
       "      <td>0</td>\n",
       "      <td>0.019197</td>\n",
       "      <td>0.038511</td>\n",
       "      <td>0.192950</td>\n",
       "      <td>0.323367</td>\n",
       "      <td>0.261718</td>\n",
       "      <td>-0.100360</td>\n",
       "      <td>0.106925</td>\n",
       "      <td>0.463833</td>\n",
       "      <td>0.064084</td>\n",
       "      <td>-0.025146</td>\n",
       "    </tr>\n",
       "    <tr>\n",
       "      <th>1</th>\n",
       "      <td>1</td>\n",
       "      <td>0.006853</td>\n",
       "      <td>0.462474</td>\n",
       "      <td>-0.016878</td>\n",
       "      <td>0.649795</td>\n",
       "      <td>-1.347089</td>\n",
       "      <td>-0.307984</td>\n",
       "      <td>-0.119577</td>\n",
       "      <td>0.855597</td>\n",
       "      <td>0.375899</td>\n",
       "      <td>-0.092040</td>\n",
       "    </tr>\n",
       "    <tr>\n",
       "      <th>2</th>\n",
       "      <td>2</td>\n",
       "      <td>0.229043</td>\n",
       "      <td>-0.369751</td>\n",
       "      <td>0.484575</td>\n",
       "      <td>0.250174</td>\n",
       "      <td>0.261718</td>\n",
       "      <td>-0.017310</td>\n",
       "      <td>0.446679</td>\n",
       "      <td>0.232984</td>\n",
       "      <td>-0.123005</td>\n",
       "      <td>-0.126856</td>\n",
       "    </tr>\n",
       "    <tr>\n",
       "      <th>3</th>\n",
       "      <td>3</td>\n",
       "      <td>-0.104241</td>\n",
       "      <td>-0.055704</td>\n",
       "      <td>0.299642</td>\n",
       "      <td>0.391249</td>\n",
       "      <td>0.172340</td>\n",
       "      <td>0.314889</td>\n",
       "      <td>0.106925</td>\n",
       "      <td>0.220694</td>\n",
       "      <td>0.219991</td>\n",
       "      <td>0.368972</td>\n",
       "    </tr>\n",
       "    <tr>\n",
       "      <th>4</th>\n",
       "      <td>4</td>\n",
       "      <td>1.043737</td>\n",
       "      <td>-0.401156</td>\n",
       "      <td>0.473906</td>\n",
       "      <td>0.506215</td>\n",
       "      <td>0.261718</td>\n",
       "      <td>0.065740</td>\n",
       "      <td>-0.195078</td>\n",
       "      <td>0.515440</td>\n",
       "      <td>-0.808997</td>\n",
       "      <td>0.315303</td>\n",
       "    </tr>\n",
       "  </tbody>\n",
       "</table>\n",
       "</div>"
      ],
      "text/plain": [
       "   id         0         1         2         3         4         5         6  \\\n",
       "0   0  0.019197  0.038511  0.192950  0.323367  0.261718 -0.100360  0.106925   \n",
       "1   1  0.006853  0.462474 -0.016878  0.649795 -1.347089 -0.307984 -0.119577   \n",
       "2   2  0.229043 -0.369751  0.484575  0.250174  0.261718 -0.017310  0.446679   \n",
       "3   3 -0.104241 -0.055704  0.299642  0.391249  0.172340  0.314889  0.106925   \n",
       "4   4  1.043737 -0.401156  0.473906  0.506215  0.261718  0.065740 -0.195078   \n",
       "\n",
       "          7         8         9  \n",
       "0  0.463833  0.064084 -0.025146  \n",
       "1  0.855597  0.375899 -0.092040  \n",
       "2  0.232984 -0.123005 -0.126856  \n",
       "3  0.220694  0.219991  0.368972  \n",
       "4  0.515440 -0.808997  0.315303  "
      ]
     },
     "execution_count": 139,
     "metadata": {},
     "output_type": "execute_result"
    }
   ],
   "source": [
    "dTest = pd.read_csv('csvs/test_dataset.csv')\n",
    "dTest.head()"
   ]
  },
  {
   "cell_type": "code",
   "execution_count": 140,
   "metadata": {},
   "outputs": [],
   "source": [
    "X_test = dTest[cols]\n",
    "\n",
    "# Predicción de author con los datos de test_datatest.csv:\n",
    "y_test_pred = model.predict(X_test)\n",
    "y_test_pred\n",
    "\n",
    "# Lo incluyo en el dataframe:\n",
    "dTest['author'] = y_test_pred\n",
    "\n",
    "# Preparo df con las 2 columnas que quiero subir (id, price):\n",
    "sub = dTest[['id', 'author']]"
   ]
  },
  {
   "cell_type": "code",
   "execution_count": 141,
   "metadata": {},
   "outputs": [
    {
     "data": {
      "text/html": [
       "<div>\n",
       "<style scoped>\n",
       "    .dataframe tbody tr th:only-of-type {\n",
       "        vertical-align: middle;\n",
       "    }\n",
       "\n",
       "    .dataframe tbody tr th {\n",
       "        vertical-align: top;\n",
       "    }\n",
       "\n",
       "    .dataframe thead th {\n",
       "        text-align: right;\n",
       "    }\n",
       "</style>\n",
       "<table border=\"1\" class=\"dataframe\">\n",
       "  <thead>\n",
       "    <tr style=\"text-align: right;\">\n",
       "      <th></th>\n",
       "      <th>id</th>\n",
       "      <th>author</th>\n",
       "    </tr>\n",
       "  </thead>\n",
       "  <tbody>\n",
       "    <tr>\n",
       "      <th>0</th>\n",
       "      <td>0</td>\n",
       "      <td>Philippus</td>\n",
       "    </tr>\n",
       "    <tr>\n",
       "      <th>1</th>\n",
       "      <td>1</td>\n",
       "      <td>Philippus</td>\n",
       "    </tr>\n",
       "    <tr>\n",
       "      <th>2</th>\n",
       "      <td>2</td>\n",
       "      <td>Marcus</td>\n",
       "    </tr>\n",
       "    <tr>\n",
       "      <th>3</th>\n",
       "      <td>3</td>\n",
       "      <td>Marcus</td>\n",
       "    </tr>\n",
       "    <tr>\n",
       "      <th>4</th>\n",
       "      <td>4</td>\n",
       "      <td>Marcus</td>\n",
       "    </tr>\n",
       "    <tr>\n",
       "      <th>...</th>\n",
       "      <td>...</td>\n",
       "      <td>...</td>\n",
       "    </tr>\n",
       "    <tr>\n",
       "      <th>8007</th>\n",
       "      <td>8007</td>\n",
       "      <td>Philippus</td>\n",
       "    </tr>\n",
       "    <tr>\n",
       "      <th>8008</th>\n",
       "      <td>8008</td>\n",
       "      <td>Blanquius</td>\n",
       "    </tr>\n",
       "    <tr>\n",
       "      <th>8009</th>\n",
       "      <td>8009</td>\n",
       "      <td>Blanquius</td>\n",
       "    </tr>\n",
       "    <tr>\n",
       "      <th>8010</th>\n",
       "      <td>8010</td>\n",
       "      <td>Marcus</td>\n",
       "    </tr>\n",
       "    <tr>\n",
       "      <th>8011</th>\n",
       "      <td>8011</td>\n",
       "      <td>Philippus</td>\n",
       "    </tr>\n",
       "  </tbody>\n",
       "</table>\n",
       "<p>8012 rows × 2 columns</p>\n",
       "</div>"
      ],
      "text/plain": [
       "        id     author\n",
       "0        0  Philippus\n",
       "1        1  Philippus\n",
       "2        2     Marcus\n",
       "3        3     Marcus\n",
       "4        4     Marcus\n",
       "...    ...        ...\n",
       "8007  8007  Philippus\n",
       "8008  8008  Blanquius\n",
       "8009  8009  Blanquius\n",
       "8010  8010     Marcus\n",
       "8011  8011  Philippus\n",
       "\n",
       "[8012 rows x 2 columns]"
      ]
     },
     "execution_count": 141,
     "metadata": {},
     "output_type": "execute_result"
    }
   ],
   "source": [
    "sub"
   ]
  },
  {
   "cell_type": "code",
   "execution_count": 142,
   "metadata": {},
   "outputs": [],
   "source": [
    "# Exporto archivo .csv:\n",
    "sub.to_csv(\"csvs/sub01.csv\", index=False)"
   ]
  },
  {
   "cell_type": "code",
   "execution_count": null,
   "metadata": {},
   "outputs": [],
   "source": []
  }
 ],
 "metadata": {
  "kernelspec": {
   "display_name": "Python 3",
   "language": "python",
   "name": "python3"
  },
  "language_info": {
   "codemirror_mode": {
    "name": "ipython",
    "version": 3
   },
   "file_extension": ".py",
   "mimetype": "text/x-python",
   "name": "python",
   "nbconvert_exporter": "python",
   "pygments_lexer": "ipython3",
   "version": "3.7.6"
  }
 },
 "nbformat": 4,
 "nbformat_minor": 4
}
